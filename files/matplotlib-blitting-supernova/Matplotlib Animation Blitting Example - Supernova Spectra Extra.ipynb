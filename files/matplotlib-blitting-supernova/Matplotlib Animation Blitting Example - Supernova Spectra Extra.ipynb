{
 "cells": [
  {
   "cell_type": "code",
   "execution_count": 1,
   "metadata": {},
   "outputs": [],
   "source": [
    "from collections import namedtuple\n",
    "from datetime import datetime, timedelta\n",
    "from functools import partial\n",
    "from pathlib import Path\n",
    "from scipy.interpolate import interp2d\n",
    "import matplotlib.animation as animation\n",
    "import matplotlib.pyplot as plt\n",
    "import numpy as np\n",
    "import os\n",
    "import pandas as pd\n",
    "import seaborn as sns\n",
    "\n",
    "# Set plotting style\n",
    "plt.style.use('seaborn-white')\n",
    "\n",
    "plt.rcParams['savefig.bbox'] = 'tight'\n",
    "\n",
    "%matplotlib inline"
   ]
  },
  {
   "cell_type": "markdown",
   "metadata": {},
   "source": [
    "## Prepare the data\n",
    "\n",
    "The data is in a bunch of `.dat` file, which are just `csv` files. Their time ordering is defined by their name, `p` indicates after B-Max, `m` means before B-Max."
   ]
  },
  {
   "cell_type": "code",
   "execution_count": 2,
   "metadata": {},
   "outputs": [],
   "source": [
    "# Load data\n",
    "dfs = []\n",
    "for file in os.listdir(\"./data\"):\n",
    "    if not file.endswith(\".dat\"):\n",
    "        continue\n",
    "\n",
    "    # Files after B-band max have a P, otherwise they have an M\n",
    "    is_plus = True if file[4] == 'P' else False\n",
    "\n",
    "    # Offset days from B-band max is encoded in the last 3 numbers of the file\n",
    "    # name, and multiplied by 10\n",
    "    offset = int(file[5:8]) / 10\n",
    "\n",
    "    filepath = Path.cwd() / \"data\" / file\n",
    "    df = pd.read_csv(\n",
    "        filepath,\n",
    "        delim_whitespace=True,\n",
    "        skip_blank_lines=True,\n",
    "        comment=\"#\",\n",
    "        header=None,\n",
    "        names=(\"lambda\", \"flux\", \"flux_variance\"),\n",
    "    )\n",
    "\n",
    "    df[\"days_from_max\"] = offset if is_plus else -1 * offset\n",
    "\n",
    "    dfs.append(df)\n",
    "\n",
    "df = pd.concat(dfs, ignore_index=True)\n",
    "\n",
    "# Reorder by days, then wavelength, and then re-index so the index is in order\n",
    "df = df.sort_values([\"days_from_max\", \"lambda\"])\n",
    "df = df.reset_index(drop=True)\n",
    "\n",
    "del dfs  # Try to clean up some space"
   ]
  },
  {
   "cell_type": "markdown",
   "metadata": {},
   "source": [
    "Linearly interpolate the data for the times when there were no observations. "
   ]
  },
  {
   "cell_type": "code",
   "execution_count": 3,
   "metadata": {},
   "outputs": [],
   "source": [
    "# Get the days and flux arrays\n",
    "days = df[\"days_from_max\"].unique()\n",
    "lambdas = df[\"lambda\"].unique()\n",
    "\n",
    "# Create a 2D array of wavelength (X) and day (Y).\n",
    "stacked = []\n",
    "for day in days:\n",
    "    flux = df[df[\"days_from_max\"]==day][\"flux\"]\n",
    "    stacked.append(flux)\n",
    "\n",
    "# Interpolate the flux values from the wavelength and the day. Since the\n",
    "# wavelengths are fixed we use a partial to bind the hard-coded wavelength\n",
    "# array to the function and turn it into a function that returns the flux array\n",
    "# from just the day.\n",
    "flux_from_day_and_wavelength = interp2d(lambdas, days, np.stack(stacked), kind='linear')\n",
    "flux_from_day = partial(flux_from_day_and_wavelength,  lambdas)"
   ]
  },
  {
   "cell_type": "markdown",
   "metadata": {},
   "source": [
    "## With Blitting"
   ]
  },
  {
   "cell_type": "markdown",
   "metadata": {},
   "source": [
    "You need an interable to store the artists that will be updated each frame of the plot, but it's easier to access them to update if we can get them by name. A `namedtuple` solves this problem easily."
   ]
  },
  {
   "cell_type": "code",
   "execution_count": 4,
   "metadata": {},
   "outputs": [],
   "source": [
    "Artists = namedtuple(\"Artists\", (\"flux_line\", \"u_band\", \"b_band\", \"v_band\", \"r_band\", \"i_band\", \"day\"))"
   ]
  },
  {
   "cell_type": "markdown",
   "metadata": {},
   "source": [
    "We need a function to draw the background of the figure. It must take no arguments when called, which we will accomplish by partially applying it. It should draw everything that does not change from frame-to-frame. It also must return the artists that are to be updated for each frame. I've found it's useful to pass in the artists to the init function instead of having it generate them, as this makes it easier to define them just once."
   ]
  },
  {
   "cell_type": "code",
   "execution_count": 5,
   "metadata": {},
   "outputs": [],
   "source": [
    "def middle_of_band(band_start, band_stop, plot_min=3000, plot_max=10000):\n",
    "    half_way = (band_stop - band_start) / 2\n",
    "    mid_band = band_start + half_way\n",
    "    plot_fraction = (mid_band - plot_min) / (plot_max - plot_min)\n",
    "\n",
    "    return plot_fraction"
   ]
  },
  {
   "cell_type": "code",
   "execution_count": 6,
   "metadata": {},
   "outputs": [],
   "source": [
    "def init_fig(fig, ax, artists):\n",
    "    \"\"\"Initialize the figure, used to draw the first frame for the animation.\n",
    "\n",
    "    Because this function must return a list of artists to be modified in the\n",
    "    animation, a list is passed in and returned without being used or altered.\n",
    "\n",
    "    Args:\n",
    "    fig (matplotlib figure): a matplotlib figure object\n",
    "    ax (matplotlib axis): a matplotlib axis object\n",
    "    artists: a list of artist objects\n",
    "\n",
    "    Returns:\n",
    "    list: the unaltered input artists\n",
    "\n",
    "    \"\"\"\n",
    "    # Set the axis and plot titles\n",
    "    ax.set_title(\"Supernova 2011fe Spectrum\", fontsize=22)\n",
    "    ax.set_xlabel(\"Wavelength [Å]\", fontsize=20)\n",
    "    ax.set_ylabel(\"Flux [erg s$​^{-1}$ cm$​^{-2}$ Å$​^{-1}$]\", fontsize=20)\n",
    "\n",
    "    # Set the axis range\n",
    "    plt.xlim(3000, 10000)\n",
    "    plt.ylim(0, 1.25e-12)\n",
    "\n",
    "    # Plot photometric bands\n",
    "    BANDS = (\n",
    "        (3300, 4102, \"purple\", \"U\"),\n",
    "        (4102, 5100, \"blue\", \"B\"),\n",
    "        (5200, 6289, \"green\", \"V\"),\n",
    "        (6289, 7607, \"red\", \"R\"),\n",
    "        (7607, 9200, \"black\", \"I\"),\n",
    "    )\n",
    "    text_y = 0.955  # Close to the top\n",
    "    for start, stop, color, band in BANDS:\n",
    "        plt.axvspan(start, stop,color=color, alpha=0.15, zorder=-1, linewidth=0)\n",
    "        text_x = middle_of_band(start,stop)\n",
    "        plt.text(\n",
    "            text_x,\n",
    "            text_y,\n",
    "            band + \"-Band\",\n",
    "            color=color,\n",
    "            fontsize=18,\n",
    "            transform=ax.transAxes,\n",
    "            horizontalalignment='center',\n",
    "            verticalalignment='center',\n",
    "            style='italic',\n",
    "        )\n",
    "\n",
    "    # Set tick label size\n",
    "    ax.tick_params(axis='both', which='major', labelsize=12)\n",
    "\n",
    "    # Pad the ticks so they do not overlap at the corner\n",
    "    ax.tick_params(axis='x', pad=10)\n",
    "    ax.tick_params(axis='y', pad=10)\n",
    "\n",
    "    # Must return the list of artists, but we use a pass through so that they\n",
    "    # aren't created multiple times\n",
    "    return artists"
   ]
  },
  {
   "cell_type": "markdown",
   "metadata": {},
   "source": [
    "We also need a function to step through time and update the data. It will take no arguments and will return a \"frame\", which is just any Python object, but one that is consumed by `update_artists()` (below) as the sole input."
   ]
  },
  {
   "cell_type": "code",
   "execution_count": 7,
   "metadata": {},
   "outputs": [],
   "source": [
    "def step_through_frames(from_day, until_day):\n",
    "    \"\"\"Iterate through the days of the spectra and return flux and day\n",
    "    number.\n",
    "\n",
    "    Args:\n",
    "        from_day (int): start day, measured from B-max\n",
    "        until_day (int): day to stop just before, measured from B-max\n",
    "\n",
    "    Returns:\n",
    "        tuple: a tuple containing the numpy array of flux values and\n",
    "        the current day of the year\n",
    "    \"\"\"\n",
    "    # B band max happened on a specific day, and we calculate all dates from\n",
    "    # then\n",
    "    B_MAX_DATE = datetime.strptime(\"2011-09-10T12:40:10\", \"%Y-%m-%dT%H:%M:%S\")\n",
    "    for ten_day in range(from_day * 10, until_day * 10):\n",
    "        day = ten_day / 10\n",
    "        flux = flux_from_day(day)\n",
    "\n",
    "        date = B_MAX_DATE + timedelta(day)\n",
    "\n",
    "        yield (flux_from_day(day), date.strftime(\"%Y-%m-%d\"))"
   ]
  },
  {
   "cell_type": "markdown",
   "metadata": {},
   "source": [
    "Finally, we need to write a function to update all the artists with the new data from each frame."
   ]
  },
  {
   "cell_type": "code",
   "execution_count": 8,
   "metadata": {},
   "outputs": [],
   "source": [
    "def update_artists(frames, artists, lambdas):\n",
    "    \"\"\"Update artists with data from each frame.\n",
    "\n",
    "    Args:\n",
    "        frames (tuple): contains the flux values as a numpy array and days from\n",
    "            B-Max as a float\n",
    "        artists (list of Artists): a list of artists to update\n",
    "\n",
    "    \"\"\"\n",
    "    flux, day = frames\n",
    "\n",
    "    artists.flux_line.set_data(lambdas, flux)\n",
    "    artists.day.set_text(day)\n",
    "\n",
    "    return\n",
    "    \n",
    "    # Set various bands, which requires slicing by wavelength. The various\n",
    "    # magic numbers were found by locating the bins closest to the band edges.\n",
    "    # The bands overlap one data point because otherwise the background line\n",
    "    # will show through the gaps.\n",
    "    bounds_and_artist = (\n",
    "        (0, 337, artists.u_band),\n",
    "        (337, 757, artists.b_band),\n",
    "        (799, 1257, artists.v_band),\n",
    "        (1257, 1810, artists.r_band),\n",
    "        (1810, 2480, artists.i_band),\n",
    "    )\n",
    "    for idx_min, idx_max, artist in bounds_and_artist:\n",
    "        artist.set_data(lambdas[idx_min:idx_max+1], flux[idx_min:idx_max+1])"
   ]
  },
  {
   "cell_type": "markdown",
   "metadata": {},
   "source": [
    "## Putting it all together"
   ]
  },
  {
   "cell_type": "code",
   "execution_count": 9,
   "metadata": {},
   "outputs": [],
   "source": [
    "# Video metadata\n",
    "VIDEO_META = {\n",
    "    \"title\": \"Supernova 2011fe Spectra Time Series\",\n",
    "    \"artist\": \"Alexander Gude\",\n",
    "    \"genre\": \"Scientific\",\n",
    "    \"subject\": \"A spectral time series of the explosion of supernova 2011fe\",\n",
    "    \"copyright\": \"CC-BY-SA 4.0\",\n",
    "}"
   ]
  },
  {
   "cell_type": "code",
   "execution_count": 10,
   "metadata": {},
   "outputs": [
    {
     "data": {
      "image/png": "[encoded data removed]",
      "text/plain": [
       "<matplotlib.figure.Figure at 0x7f063ce68ba8>"
      ]
     },
     "metadata": {},
     "output_type": "display_data"
    }
   ],
   "source": [
    "# Create the pot\n",
    "fig, ax = plt.subplots(figsize=(12, 7))\n",
    "\n",
    "# Set the artists\n",
    "artists = Artists(\n",
    "    plt.plot([], [], color=\"black\", animated=True, label=\"Flux\")[0],\n",
    "    plt.plot([], [], color=\"purple\", animated=True, label=\"U Band\")[0],\n",
    "    plt.plot([], [], color=\"blue\", animated=True, label=\"B Band\")[0],\n",
    "    plt.plot([], [], color=\"green\", animated=True, label=\"V Band\")[0],\n",
    "    plt.plot([], [], color=\"red\", animated=True, label=\"R Band\")[0],\n",
    "    plt.plot([], [], color=\"0.4\", animated=True, label=\"I Band\")[0],\n",
    "    ax.text(1, 1, \"\", fontsize=20, transform=ax.transAxes, horizontalalignment='right', verticalalignment='bottom'),\n",
    ")\n",
    "\n",
    "# Apply the three plotting functions written above\n",
    "init = partial(init_fig, fig=fig, ax=ax, artists=artists)\n",
    "step = partial(step_through_frames, -15, 25)\n",
    "update = partial(update_artists, artists=artists, lambdas=df[\"lambda\"].unique())\n",
    "\n",
    "# Generate the animation\n",
    "anim = animation.FuncAnimation(\n",
    "    fig=fig,\n",
    "    func=update,\n",
    "    frames=step,\n",
    "    init_func=init,\n",
    "    save_count=len(list(step())),\n",
    "    repeat_delay=5000,\n",
    ")\n",
    "\n",
    "# Save the animation\n",
    "anim.save('/tmp/sn2011fe_spectral_time_series_extra.mp4', fps=24, extra_args=['-vcodec', 'libx264'], dpi=300, metadata=VIDEO_META)\n",
    "\n",
    "# Save to disk\n",
    "for ext in (\"png\", \"svg\"):\n",
    "    fig.savefig(\"/tmp/sn2011fe_spectral_time_series_extra.{ext}\".format(ext=ext), bbox_inches=\"tight\")\n",
    "    \n",
    "plt.show()"
   ]
  }
 ],
 "metadata": {
  "kernelspec": {
   "display_name": "Python 3",
   "language": "python",
   "name": "python3"
  },
  "language_info": {
   "codemirror_mode": {
    "name": "ipython",
    "version": 3
   },
   "file_extension": ".py",
   "mimetype": "text/x-python",
   "name": "python",
   "nbconvert_exporter": "python",
   "pygments_lexer": "ipython3",
   "version": "3.6.4"
  }
 },
 "nbformat": 4,
 "nbformat_minor": 2
}

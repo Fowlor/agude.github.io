{
 "cells": [
  {
   "cell_type": "code",
   "execution_count": 1,
   "metadata": {
    "collapsed": true
   },
   "outputs": [],
   "source": [
    "from random import choices\n",
    "from statsmodels.stats.proportion import proportion_confint\n",
    "from tabulate import tabulate\n",
    "\n",
    "import math\n",
    "import numpy as np"
   ]
  },
  {
   "cell_type": "code",
   "execution_count": 2,
   "metadata": {
    "collapsed": true
   },
   "outputs": [],
   "source": [
    "# The number of times to roll the dice\n",
    "# 522 matches the blue dice from my previous post: http://alexgude.com/blog/fate-dice-statistics/\n",
    "COUNT = 522"
   ]
  },
  {
   "cell_type": "markdown",
   "metadata": {},
   "source": [
    "## Wilson Score Interval"
   ]
  },
  {
   "cell_type": "code",
   "execution_count": 3,
   "metadata": {
    "collapsed": true
   },
   "outputs": [],
   "source": [
    "def fate_probability(value):\n",
    "    \"\"\"Returns the probability of rolling a value on 4dF.\n",
    "\n",
    "    Args:\n",
    "        value (int): The value rolled on 4dF.\n",
    "\n",
    "    Returns:\n",
    "        float: The probability of rolling the value, that is P(4dF=value).\n",
    "\n",
    "    Raises:\n",
    "        TypeError: If -4 <= value <= 4 and value is not an integer.\n",
    "\n",
    "    \"\"\"\n",
    "    # Outside bounds\n",
    "    if not -4 <= value <= 4:\n",
    "        return 0\n",
    "\n",
    "    # The probability of rolling a sum of 0, 1, 2, 3, 4 (negatives are same probability)\n",
    "    probability = [19/81, 16/81, 10/81, 4/81, 1/81]\n",
    "\n",
    "    return probability[abs(value)]"
   ]
  },
  {
   "cell_type": "code",
   "execution_count": 4,
   "metadata": {
    "collapsed": true
   },
   "outputs": [],
   "source": [
    "def expected_array(n):\n",
    "    \"\"\" Compute the expected values for each bin given a series of 4dF rolls.\n",
    "\n",
    "    Args:\n",
    "        n (int): Number of rolls.\n",
    "\n",
    "    Returns:\n",
    "        list: A list of expected number of rolls seen by value.\n",
    "\n",
    "    \"\"\"\n",
    "    result = []\n",
    "    for value in range(-4, 5):\n",
    "        exp = fate_probability(value) * n\n",
    "        result.append(exp)\n",
    "\n",
    "    return result"
   ]
  },
  {
   "cell_type": "code",
   "execution_count": 5,
   "metadata": {
    "collapsed": true
   },
   "outputs": [],
   "source": [
    "expected = np.array(expected_array(COUNT))\n",
    "\n",
    "lower, upper = np.array(proportion_confint(expected, COUNT, alpha=0.01, method=\"wilson\")) * COUNT"
   ]
  },
  {
   "cell_type": "code",
   "execution_count": 6,
   "metadata": {
    "scrolled": true
   },
   "outputs": [
    {
     "name": "stdout",
     "output_type": "stream",
     "text": [
      "|   Outcome |   Lower Bound |   Upper Bound |\n",
      "|----------:|--------------:|--------------:|\n",
      "|        -4 |          2.43 |         16.84 |\n",
      "|        -3 |         15.72 |         41.74 |\n",
      "|        -2 |         47.52 |         86.31 |\n",
      "|        -1 |         81.73 |        128.46 |\n",
      "|         0 |         99.34 |        149.02 |\n",
      "|         1 |         81.73 |        128.46 |\n",
      "|         2 |         47.52 |         86.31 |\n",
      "|         3 |         15.72 |         41.74 |\n",
      "|         4 |          2.43 |         16.84 |\n"
     ]
    }
   ],
   "source": [
    "wilson_data = [[\"Outcome\", \"Lower Bound\", \"Upper Bound\"]]\n",
    "\n",
    "for i, (low, up) in enumerate(zip(lower, upper)):\n",
    "    value = i - 4\n",
    "    wilson_data.append([value, \"{0:.2f}\".format(low), \"{0:.2f}\".format(up)])\n",
    "\n",
    "print(tabulate(wilson_data, headers=\"firstrow\", tablefmt=\"pipe\"))"
   ]
  },
  {
   "cell_type": "markdown",
   "metadata": {},
   "source": [
    "## Normal Approximation"
   ]
  },
  {
   "cell_type": "code",
   "execution_count": 7,
   "metadata": {
    "collapsed": true
   },
   "outputs": [],
   "source": [
    "def variance_expectation(n, sign):\n",
    "    \"\"\"Returns the expected range of rolls based on the variance and z score.\n",
    "\n",
    "    Args:\n",
    "        n (int): The number of rolls to consider.\n",
    "        sign (int): -1 returns the lower bounds, +1 returns the upper bounds.\n",
    "\n",
    "    Returns:\n",
    "        list: A list of the lower/upper bounds for the values -4, -3, ..., 4.\n",
    "    \"\"\"\n",
    "    weights = expected_array(n)\n",
    "    output = []\n",
    "    for i, weight in enumerate(weights):\n",
    "        value = i - 4\n",
    "        p = fate_probability(value)\n",
    "        sigma = sign * 2.58 * math.sqrt(n * p * (1 - p)) + weight\n",
    "        output.append(sigma)\n",
    "\n",
    "    return output"
   ]
  },
  {
   "cell_type": "code",
   "execution_count": 8,
   "metadata": {
    "collapsed": true
   },
   "outputs": [],
   "source": [
    "upper = variance_expectation(COUNT, 1)\n",
    "lower = variance_expectation(COUNT, -1)"
   ]
  },
  {
   "cell_type": "code",
   "execution_count": 9,
   "metadata": {
    "scrolled": true
   },
   "outputs": [
    {
     "name": "stdout",
     "output_type": "stream",
     "text": [
      "|   Outcome |   Lower Bound |   Upper Bound |\n",
      "|----------:|--------------:|--------------:|\n",
      "|        -4 |         -0.06 |         12.95 |\n",
      "|        -3 |         13.01 |         38.55 |\n",
      "|        -2 |         45.05 |         83.84 |\n",
      "|        -1 |         79.64 |        126.58 |\n",
      "|         0 |         97.47 |        147.42 |\n",
      "|         1 |         79.64 |        126.58 |\n",
      "|         2 |         45.05 |         83.84 |\n",
      "|         3 |         13.01 |         38.55 |\n",
      "|         4 |         -0.06 |         12.95 |\n"
     ]
    }
   ],
   "source": [
    "naive_data = [[\"Outcome\", \"Lower Bound\", \"Upper Bound\"]]\n",
    "\n",
    "for i, (low, up) in enumerate(zip(lower, upper)):\n",
    "    value = i - 4\n",
    "    naive_data.append([value, \"{0:.2f}\".format(low), \"{0:.2f}\".format(up)])\n",
    "\n",
    "print(tabulate(naive_data, headers=\"firstrow\", tablefmt=\"pipe\"))"
   ]
  },
  {
   "cell_type": "markdown",
   "metadata": {},
   "source": [
    "# Monte Carlo Simulation"
   ]
  },
  {
   "cell_type": "code",
   "execution_count": 10,
   "metadata": {
    "collapsed": true
   },
   "outputs": [],
   "source": [
    "# Values to select, and the weights to do it with\n",
    "WEIGHTS = [1, 4, 10, 16, 19, 16, 10, 4, 1]\n",
    "VALUES = [-4, -3, -2, -1, 0, 1, 2, 3, 4]\n",
    "\n",
    "# Bins edges\n",
    "BINS = [-4.5, -3.5, -2.5, -1.5, -0.5, 0.5, 1.5, 2.5, 3.5, 4.5]"
   ]
  },
  {
   "cell_type": "code",
   "execution_count": 11,
   "metadata": {
    "collapsed": true
   },
   "outputs": [],
   "source": [
    "def simulate_rolls(n, trials=10000):\n",
    "    \"\"\" Simulate rolling 4dF N times and calculate the expectation intervals.\n",
    "\n",
    "    Args:\n",
    "        n (int): The number of times to roll 4dF per trial.\n",
    "        trials (int): The number of trials to run.\n",
    "\n",
    "    Returns:\n",
    "    list: A list of lists, containing the counts for each value for each trial:\n",
    "        [\n",
    "            [ count, count, count ... ], # -4\n",
    "            [ count, count, count ... ], # -3\n",
    "            ...                        \n",
    "            [ count, count, count ... ], # +4\n",
    "        ]                              \n",
    "    \"\"\"\n",
    "    # The possible values we can select, the weights for each, and a histogram binning to let us count them quickly\n",
    "    values = [-4, -3, -2, -1, 0, 1, 2, 3, 4]\n",
    "    bins = [-4.5, -3.5, -2.5, -1.5, -0.5, 0.5, 1.5, 2.5, 3.5, 4.5]\n",
    "    weights = [1, 4, 10, 16, 19, 16, 10, 4, 1]\n",
    "\n",
    "    results = [[], [], [], [], [], [], [], [], []]\n",
    "\n",
    "    # Perform a trial\n",
    "    for _ in range(trials):\n",
    "        # We select all n rolls \"at once\" using a weighted choice function\n",
    "        rolls = choices(values, weights=weights, k=n)\n",
    "        counts = np.histogram(rolls, bins=bins)[0]\n",
    "                \n",
    "        # Add the results to the global result\n",
    "        for i, count in enumerate(counts):\n",
    "            results[i].append(count)\n",
    "    \n",
    "    return results"
   ]
  },
  {
   "cell_type": "code",
   "execution_count": 12,
   "metadata": {
    "scrolled": true
   },
   "outputs": [
    {
     "name": "stdout",
     "output_type": "stream",
     "text": [
      "CPU times: user 1min 13s, sys: 52 ms, total: 1min 13s\n",
      "Wall time: 1min 13s\n"
     ]
    }
   ],
   "source": [
    "%%time \n",
    "\n",
    "# Run the simulation\n",
    "results = simulate_rolls(COUNT, 300000)"
   ]
  },
  {
   "cell_type": "code",
   "execution_count": 13,
   "metadata": {
    "scrolled": true
   },
   "outputs": [
    {
     "name": "stdout",
     "output_type": "stream",
     "text": [
      "|   Outcome |   Lower Bound |   Upper Bound |\n",
      "|----------:|--------------:|--------------:|\n",
      "|        -4 |             1 |            14 |\n",
      "|        -3 |            14 |            39 |\n",
      "|        -2 |            46 |            84 |\n",
      "|        -1 |            80 |           127 |\n",
      "|         0 |            98 |           148 |\n",
      "|         1 |            80 |           127 |\n",
      "|         2 |            46 |            84 |\n",
      "|         3 |            14 |            39 |\n",
      "|         4 |             1 |            14 |\n"
     ]
    }
   ],
   "source": [
    "# Print the ranges\n",
    "simulated_data = [[\"Outcome\", \"Lower Bound\", \"Upper Bound\"]]\n",
    "\n",
    "for i, r in enumerate(results):\n",
    "    value = i - 4\n",
    "    p = np.percentile(r, [0.5, 99.5])\n",
    "    simulated_data.append([value, int(p[0]), int(p[1])])\n",
    "\n",
    "print(tabulate(simulated_data, headers=\"firstrow\", tablefmt=\"pipe\"))"
   ]
  },
  {
   "cell_type": "markdown",
   "metadata": {
    "collapsed": true
   },
   "source": [
    "## Probability"
   ]
  },
  {
   "cell_type": "code",
   "execution_count": 14,
   "metadata": {
    "collapsed": true
   },
   "outputs": [],
   "source": [
    "def configuration_probability(value, n_times, m_tries):\n",
    "    \"\"\" Give the probability of rolling a value exactly N times on 4dF, given M\n",
    "    rolls.\n",
    "\n",
    "    The formula for the probability is:\n",
    "\n",
    "    (M choose N) * P(Value)^N * P(Not Value)^{M-N}\n",
    "\n",
    "    Where (M choose N) is the binomial coefficient, P(Value)^N is the\n",
    "    probability of rolling the value exactly N times, and P(Not Value)^{M-N} is\n",
    "    the probability of rolling any other result M-N times.\n",
    "\n",
    "    Args:\n",
    "        value (int): The value rolled on 4dF.\n",
    "        n_times (int): The number of times the value should appear.\n",
    "        m_tries (int): The total number of 4dF rolls.\n",
    "\n",
    "    Returns:\n",
    "        float: The probability of the desired combination.\n",
    "    \"\"\"\n",
    "    # Binomial coefficient\n",
    "    coeff = math.factorial(m_tries) // (math.factorial(n_times) * math.factorial(m_tries - n_times))\n",
    "    p = fate_probability(value)\n",
    "\n",
    "    total_probability = coeff * (p**n_times) * ((1-p)**(m_tries-n_times))\n",
    "\n",
    "    return total_probability"
   ]
  },
  {
   "cell_type": "code",
   "execution_count": 15,
   "metadata": {
    "collapsed": true
   },
   "outputs": [],
   "source": [
    "def get_interval(m_tries, start=0.005, end=0.995):\n",
    "    \"\"\"Find the lower and upper bounds on the number of times 4dF should roll a\n",
    "    certain value given m total rolls.\n",
    "\n",
    "    The lower bound is defined as n such that CP(n) < start < CP(n+1).\n",
    "    The upper bound is defined as n such that CP(n) < end < CP(n+1)\n",
    "\n",
    "    CP(n) is the cumulative probability, such that:\n",
    "\n",
    "        CP(n) = Sum of P(i) for 0 <= i <= n\n",
    "\n",
    "    Args:\n",
    "        m_tries (int): The total number of 4dF rolls.\n",
    "\n",
    "    Returns:\n",
    "        array of tuples: An array of tuples for the lower and upper bounds\n",
    "            expected for rolling values -4, -3, -2, -1, 0, 1, 2, 3, 4 on 4dF\n",
    "            rolled m times. The array has the following form:\n",
    "\n",
    "            [\n",
    "                (lower, upper), # Bounds for number of -4s expected\n",
    "                (lower, upper), # Bounds for number of -3s expected\n",
    "                ...\n",
    "                (lower, upper), # Bounds for number of 4s expected\n",
    "            ]\n",
    "    \"\"\"\n",
    "    output = []\n",
    "    # Check each 4dF value\n",
    "    for val in range(-4, 5):\n",
    "        lower = None\n",
    "        upper = None\n",
    "        total_probability = 0\n",
    "\n",
    "        # Check all possible number of results we could get\n",
    "        for n in range(m_tries+1):\n",
    "            total_probability += configuration_probability(val, n, m_tries)\n",
    "            if total_probability > start and lower is None:\n",
    "                lower = n\n",
    "            elif total_probability > end and upper is None:\n",
    "                upper = n\n",
    "                break\n",
    "\n",
    "        output.append((lower, upper))\n",
    "    return output"
   ]
  },
  {
   "cell_type": "code",
   "execution_count": 16,
   "metadata": {
    "collapsed": true,
    "scrolled": false
   },
   "outputs": [],
   "source": [
    "intervals = get_interval(COUNT)"
   ]
  },
  {
   "cell_type": "code",
   "execution_count": 17,
   "metadata": {
    "scrolled": true
   },
   "outputs": [
    {
     "name": "stdout",
     "output_type": "stream",
     "text": [
      "|   Outcome |   Lower Bound |   Upper Bound |\n",
      "|----------:|--------------:|--------------:|\n",
      "|        -4 |             1 |            14 |\n",
      "|        -3 |            14 |            39 |\n",
      "|        -2 |            46 |            84 |\n",
      "|        -1 |            80 |           127 |\n",
      "|         0 |            98 |           148 |\n",
      "|         1 |            80 |           127 |\n",
      "|         2 |            46 |            84 |\n",
      "|         3 |            14 |            39 |\n",
      "|         4 |             1 |            14 |\n"
     ]
    }
   ],
   "source": [
    "# Print the ranges\n",
    "prob_data = [[\"Outcome\", \"Lower Bound\", \"Upper Bound\"]]\n",
    "\n",
    "for i, (lower, upper) in enumerate(intervals):\n",
    "    value = i - 4\n",
    "    prob_data.append([value, lower, upper])\n",
    "\n",
    "print(tabulate(prob_data, headers=\"firstrow\", tablefmt=\"pipe\"))"
   ]
  },
  {
   "cell_type": "markdown",
   "metadata": {},
   "source": [
    "## Plotting"
   ]
  },
  {
   "cell_type": "code",
   "execution_count": 18,
   "metadata": {
    "collapsed": true
   },
   "outputs": [],
   "source": [
    "import matplotlib.pyplot as plt\n",
    "import seaborn as sns\n",
    "\n",
    "# Set plotting style\n",
    "sns.set_style(\"white\")\n",
    "\n",
    "%matplotlib inline"
   ]
  },
  {
   "cell_type": "markdown",
   "metadata": {},
   "source": [
    "### Comparison"
   ]
  },
  {
   "cell_type": "code",
   "execution_count": 19,
   "metadata": {
    "collapsed": true
   },
   "outputs": [],
   "source": [
    "# Plot size\n",
    "WIDTH = 12\n",
    "HEIGHT = 7\n",
    "\n",
    "# A map of plot colors to dice colors. This also sets the order in which they are plotted.\n",
    "COLORS = (\n",
    "    (naive_data,\"Normal Approximation\"),\n",
    "    (wilson_data, \"Wilson Score\"),\n",
    "    (simulated_data, \"Monte Carlo\"),\n",
    "    (prob_data, \"Binomial Probability\"),\n",
    ")\n",
    "\n",
    "# Offsets\n",
    "OFFSETS = []\n",
    "STEP = 0.1\n",
    "for i in range(2):\n",
    "    half = STEP / 2\n",
    "    position = 0 + half + (half * 2 * i)\n",
    "    OFFSETS += [-position, position]\n",
    "OFFSETS.sort()"
   ]
  },
  {
   "cell_type": "code",
   "execution_count": 20,
   "metadata": {
    "scrolled": false
   },
   "outputs": [
    {
     "data": {
      "image/png": "[encoded data removed]",
      "text/plain": [
       "<matplotlib.figure.Figure at 0x7fb0f06bdf28>"
      ]
     },
     "metadata": {},
     "output_type": "display_data"
    }
   ],
   "source": [
    "# Set the canvas size\n",
    "fig = plt.figure(figsize=(WIDTH, HEIGHT))\n",
    "\n",
    "for i, (data, label) in enumerate(COLORS):\n",
    "    # Make the data plotable\n",
    "    cur_data = data[1:]  # Remove the title\n",
    "    cur_data = [(v, float(l), float(u)) for v, l, u in cur_data]\n",
    "    values, lower, upper = zip(*cur_data)\n",
    "    \n",
    "    # Convert to Numpy arrays for easier operations\n",
    "    lower = np.array(lower)[4:]\n",
    "    upper = np.array(upper)[4:]\n",
    "    \n",
    "    # Adjust the values for the different options to prevent overlap\n",
    "    values = np.array(values)[4:]\n",
    "    offset = OFFSETS[i]\n",
    "    values = values + offset\n",
    "    \n",
    "    # Plot the observed points\n",
    "    mid = np.array(expected_array(COUNT))[4:]\n",
    "    y_err_low = mid - lower\n",
    "    y_err_up = upper - mid\n",
    "    plt.errorbar(x=values, y=mid, yerr=[y_err_low, y_err_up], fmt=\"none\", linewidth=12, label=label)\n",
    "\n",
    "ax = plt.gca()\n",
    "ax.set_xlabel(\"4dF Result\", size=16)\n",
    "ax.set_ylabel(\"Count\", size=16)\n",
    "plt.tick_params(axis='both', which='major', labelsize=14)\n",
    "\n",
    "# Set main title\n",
    "plt.suptitle(\"Fate Dice: 99% Intervals for {n} Rolls\".format(n=COUNT), y=1.025, fontsize=22)\n",
    "\n",
    "# Legend\n",
    "plt.legend(loc=\"upper right\", fontsize=18)\n",
    "\n",
    "# Make the plots move together\n",
    "plt.tight_layout()\n",
    "\n",
    "# Save to disk\n",
    "for ext in (\"png\", \"svg\"):\n",
    "    fig.savefig(\"/tmp/fate_dice_regions.{ext}\".format(ext=ext), bbox_inches=\"tight\", dpi=300)"
   ]
  },
  {
   "cell_type": "markdown",
   "metadata": {},
   "source": [
    "### Probability Distribution"
   ]
  },
  {
   "cell_type": "code",
   "execution_count": 21,
   "metadata": {
    "collapsed": true
   },
   "outputs": [],
   "source": [
    "def outcome_probability_distribution(m_tries, outcome=0):\n",
    "    \"\"\"Find the probability of rolling a set amount of 4dF for a specific outcome.\n",
    "\n",
    "    Args:\n",
    "        m_tries (int): The total number of 4dF rolls.\n",
    "        outcome (int): The result of rolling 4dF, from -4 to 4.\n",
    "\n",
    "    Returns:\n",
    "        array of tuples: Where the first entry of the tuple is the number of\n",
    "            times the dice showed the outcome, and the second entry is the\n",
    "            probability.\n",
    "    \"\"\"\n",
    "    output = []\n",
    "\n",
    "    # Check all possible number of results we could get\n",
    "    for n in range(m_tries+1):\n",
    "        probability = configuration_probability(outcome, n, m_tries)\n",
    "        output.append((n, probability))\n",
    "    return output"
   ]
  },
  {
   "cell_type": "code",
   "execution_count": 22,
   "metadata": {
    "collapsed": true
   },
   "outputs": [],
   "source": [
    "outcome_probability = outcome_probability_distribution(COUNT)"
   ]
  },
  {
   "cell_type": "code",
   "execution_count": 23,
   "metadata": {},
   "outputs": [],
   "source": [
    "# Set bin sizes\n",
    "BINS = []\n",
    "for i in range(0, COUNT):\n",
    "    BINS.append(i - 0.5)\n",
    "BINS.append(COUNT + 0.5)\n",
    "\n",
    "# Colors for the plot\n",
    "BLUE, *_, RED = sns.color_palette(n_colors=4)"
   ]
  },
  {
   "cell_type": "code",
   "execution_count": 24,
   "metadata": {
    "scrolled": false
   },
   "outputs": [
    {
     "data": {
      "image/png": "[encoded data removed]",
      "text/plain": [
       "<matplotlib.figure.Figure at 0x7fb0ed1de080>"
      ]
     },
     "metadata": {},
     "output_type": "display_data"
    }
   ],
   "source": [
    "# Set the canvas size\n",
    "fig = plt.figure(figsize=(WIDTH, HEIGHT))\n",
    "\n",
    "# Make the data plotable\n",
    "x, y = zip(*outcome_probability)\n",
    "\n",
    "# Plot the observed points\n",
    "plt.hist(x, bins=BINS, weights=y, label=\"Most likely 99%\", color=BLUE)\n",
    "\n",
    "# Plot the red tails\n",
    "lower = prob_data[5][1]\n",
    "upper = prob_data[5][2]\n",
    "left_x = x[:lower]\n",
    "left_y = y[:lower]\n",
    "right_x = x[upper+1:]\n",
    "right_y = y[upper+1:]\n",
    "plt.hist(left_x, bins=BINS, weights=left_y, color=RED, label=\"Least likely 1%\")\n",
    "plt.hist(right_x, bins=BINS, weights=right_y, color=RED)\n",
    "\n",
    "ax = plt.gca()\n",
    "ax.set_ylabel(\"Probability\", size=16)\n",
    "plt.yticks((0, 0.015, 0.03, 0.045))\n",
    "\n",
    "ax.set_xlabel(\"Number of Zeroes Rolled\", size=16)\n",
    "ax.set_xlim([80, 148+18])\n",
    "\n",
    "plt.tick_params(axis='both', which='major', labelsize=14)\n",
    "\n",
    "# Add arrows\n",
    "count_arrow = {\n",
    "    \"arrowstyle\": \"simple\",\n",
    "    \"connectionstyle\": \"arc3\",\n",
    "    \"color\": RED,\n",
    "    \"shrinkB\": 4.5,\n",
    "}\n",
    "ax.annotate(\n",
    "    \"Lower 0.5%\",\n",
    "    xy=(95, 0.001),\n",
    "    xytext=(-80, 30),\n",
    "    textcoords='offset points',\n",
    "    arrowprops=count_arrow,\n",
    "    size=16,\n",
    ")\n",
    "ax.annotate(\n",
    "    \"Upper 0.5%\",\n",
    "    xy=(152, 0.001),\n",
    "    xytext=(10, 30),\n",
    "    textcoords='offset points',\n",
    "    arrowprops=count_arrow,\n",
    "    size=16,\n",
    ")\n",
    "\n",
    "# Plot vertical lines for the lower and upper bound\n",
    "bottom, top = ax.get_ylim()\n",
    "center = (top - bottom) / 2\n",
    "\n",
    "ax.axvline(98-0.5, color='.5', linestyle=\"--\")\n",
    "plt.text(\n",
    "    97,\n",
    "    center,\n",
    "    \"Lower bound at 98\",\n",
    "    color='.5',\n",
    "    size=18,\n",
    "    rotation='vertical',\n",
    "    verticalalignment='center',\n",
    "    horizontalalignment='right',\n",
    ")\n",
    "\n",
    "ax.axvline(148+0.5, color='.5', linestyle=\"--\")\n",
    "plt.text(\n",
    "    149.5,\n",
    "    center,\n",
    "    \"Upper bound at 148\",\n",
    "    color='.5',\n",
    "    size=18,\n",
    "    rotation='vertical',\n",
    "    verticalalignment='center',\n",
    "    horizontalalignment='left',\n",
    ")\n",
    "\n",
    "# Add counts\n",
    "plt.text(81, 0.0425, \"Total Rolls: {n}\".format(n=COUNT), size=18)\n",
    "\n",
    "# Set main title\n",
    "plt.suptitle(\"Fate Dice: Probability Distrubiton of Number of Zeros Rolled\", y=1.025, fontsize=22)\n",
    "\n",
    "# Legend\n",
    "legend = plt.legend(loc=\"upper right\", fontsize=18, frameon=True)\n",
    "frame = legend.get_frame()\n",
    "frame.set_facecolor('white')\n",
    "frame.set_edgecolor('black')\n",
    "frame.set_alpha(1)\n",
    "\n",
    "# Make the plots move together\n",
    "plt.tight_layout()\n",
    "\n",
    "# Save to disk\n",
    "for ext in (\"png\", \"svg\"):\n",
    "    fig.savefig(\"/tmp/fate_dice_probabilities.{ext}\".format(ext=ext), bbox_inches=\"tight\", dpi=300)"
   ]
  },
  {
   "cell_type": "code",
   "execution_count": null,
   "metadata": {
    "collapsed": true
   },
   "outputs": [],
   "source": []
  }
 ],
 "metadata": {
  "kernelspec": {
   "display_name": "Python 3",
   "language": "python",
   "name": "python3"
  },
  "language_info": {
   "codemirror_mode": {
    "name": "ipython",
    "version": 3
   },
   "file_extension": ".py",
   "mimetype": "text/x-python",
   "name": "python",
   "nbconvert_exporter": "python",
   "pygments_lexer": "ipython3",
   "version": "3.6.2"
  }
 },
 "nbformat": 4,
 "nbformat_minor": 2
}

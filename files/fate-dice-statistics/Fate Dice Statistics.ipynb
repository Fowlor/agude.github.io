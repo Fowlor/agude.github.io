{
 "cells": [
  {
   "cell_type": "code",
   "execution_count": 1,
   "metadata": {
    "collapsed": true
   },
   "outputs": [],
   "source": [
    "import math\n",
    "import matplotlib.pyplot as plt\n",
    "import numpy as np\n",
    "import pandas as pd\n",
    "import scipy.stats as stats\n",
    "import seaborn as sns\n",
    "\n",
    "# Set plotting style\n",
    "plt.style.use('seaborn-white')\n",
    "\n",
    "%matplotlib inline"
   ]
  },
  {
   "cell_type": "markdown",
   "metadata": {},
   "source": [
    "# Probability Functions\n",
    "\n",
    "These functions determine the probability of various events, and use them to compute the expected number of values given a certain number of rolls."
   ]
  },
  {
   "cell_type": "code",
   "execution_count": 2,
   "metadata": {
    "collapsed": true
   },
   "outputs": [],
   "source": [
    "def fate_probability(value):\n",
    "    \"\"\"Returns the probability of rolling a value on 4dF.\n",
    "\n",
    "    Args:\n",
    "        value (int): The value rolled on 4dF.\n",
    "\n",
    "    Returns:\n",
    "        float: The probability of rolling the value, that is P(4dF=value).\n",
    "\n",
    "    Raises:\n",
    "        TypeError: If -4 <= value <= 4 and value is not an integer.\n",
    "\n",
    "    \"\"\"\n",
    "    # Outside bounds\n",
    "    if not -4 <= value <= 4:\n",
    "        return 0\n",
    "\n",
    "    # The probability of rolling a sum of 0, 1, 2, 3, 4 (negatives are same probability)\n",
    "    probability = [19/81, 16/81, 10/81, 4/81, 1/81]\n",
    "\n",
    "    return probability[abs(value)]"
   ]
  },
  {
   "cell_type": "code",
   "execution_count": 3,
   "metadata": {
    "collapsed": true
   },
   "outputs": [],
   "source": [
    "def configuration_probability(value, n_times, m_tries):\n",
    "    \"\"\" Give the probability of rolling a value exactly N times on 4dF, given M\n",
    "    rolls.\n",
    "\n",
    "    The formula for the probability is:\n",
    "\n",
    "    (M choose N) * P(Value)^N * P(Not Value)^{M-N}\n",
    "\n",
    "    Where (M choose N) is the binomial coefficient, P(Value)^N is the\n",
    "    probability of rolling the value exactly N times, and P(Not Value)^{M-N} is\n",
    "    the probability of rolling any other result M-N times.\n",
    "\n",
    "    Args:\n",
    "        value (int): The value rolled on 4dF.\n",
    "        n_times (int): The number of times the value should appear.\n",
    "        m_tries (int): The total number of 4dF rolls.\n",
    "\n",
    "    Returns:\n",
    "        float: The probability of the desired combination.\n",
    "    \"\"\"\n",
    "    # Binomial coefficient\n",
    "    coeff = math.factorial(m_tries) // (math.factorial(n_times) * math.factorial(m_tries - n_times))\n",
    "    p = fate_probability(value)\n",
    "\n",
    "    total_probability = coeff * (p**n_times) * ((1-p)**(m_tries-n_times))\n",
    "\n",
    "    return total_probability"
   ]
  },
  {
   "cell_type": "code",
   "execution_count": 4,
   "metadata": {
    "collapsed": true
   },
   "outputs": [],
   "source": [
    "def get_interval(m_tries, start=0.025, end=0.975):\n",
    "    \"\"\"Find the lower and upper bounds on the number of times 4dF should roll a\n",
    "    certain value given m total rolls.\n",
    "\n",
    "    The lower bound is defined as n + 0.5 such that CP(n) < start < CP(n+1).\n",
    "    The upper bound is defined as n + 0.5 such that CP(n) < end < CP(n+1)\n",
    "\n",
    "    CP(n) is the cumulative probability, such that:\n",
    "\n",
    "        CP(n) = Sum of P(i) for 0 <= i <= n\n",
    "\n",
    "    Args:\n",
    "        m_tries (int): The total number of 4dF rolls.\n",
    "\n",
    "    Returns:\n",
    "        array of tuples: An array of tuples for the lower and upper bounds\n",
    "            expected for rolling values -4, -3, -2, -1, 0, 1, 2, 3, 4 on 4dF\n",
    "            rolled m times. The array has the following form:\n",
    "\n",
    "            [\n",
    "                (lower, upper), # Bounds for number of -4s expected\n",
    "                (lower, upper), # Bounds for number of -3s expected\n",
    "                ...\n",
    "                (lower, upper), # Bounds for number of 4s expected\n",
    "            ]\n",
    "    \"\"\"\n",
    "    output = []\n",
    "    # Check each 4dF value\n",
    "    for val in range(-4, 5):\n",
    "        lower = None\n",
    "        upper = None\n",
    "        total_probability = 0\n",
    "\n",
    "        # Check all possible number of results we could get\n",
    "        for n in range(m_tries+1):\n",
    "            total_probability += configuration_probability(val, n, m_tries)\n",
    "            if total_probability > start and lower is None:\n",
    "                lower = n - 0.5\n",
    "            elif total_probability > end and upper is None:\n",
    "                upper = n - 0.5\n",
    "                break\n",
    "\n",
    "        output.append((lower, upper))\n",
    "    return output"
   ]
  },
  {
   "cell_type": "markdown",
   "metadata": {},
   "source": [
    "# Read the data\n",
    "\n",
    "The data is, unfortunately, recorded like this:\n",
    "\n",
    "`date, black_roll, blue_roll, red_roll, white_roll`\n",
    "\n",
    "With dates repeated, and empty values if a set of dice was rolled fewer times that night than the others that night. I would much prefer something like:\n",
    "\n",
    "`date, color, Result`\n",
    "\n",
    "So I melt the dataframe and rearrange it. I use `dropna()` to remove the empty values for `Result` or `Color`, but not for `Date` (some days were not recorded, but we only care about the rolls)."
   ]
  },
  {
   "cell_type": "code",
   "execution_count": 5,
   "metadata": {
    "collapsed": true
   },
   "outputs": [],
   "source": [
    "df = pd.read_csv(\"./fate_dice_data.csv\")\n",
    "df = pd.melt(df, id_vars=\"Date\", var_name=\"Color\", value_name=\"Result\").dropna(subset=[\"Result\", \"Color\"])"
   ]
  },
  {
   "cell_type": "code",
   "execution_count": 6,
   "metadata": {
    "collapsed": true
   },
   "outputs": [],
   "source": [
    "# Plot size\n",
    "WIDTH = 10\n",
    "HEIGHT = 10\n",
    "\n",
    "# Bins edges\n",
    "BINS = [-4.5, -3.5, -2.5, -1.5, -0.5, 0.5, 1.5, 2.5, 3.5, 4.5]\n",
    "\n",
    "# Colors from Seaborn\n",
    "RED, BLUE, GREEN, PURPLE = sns.color_palette(\"Set1\", 4)\n",
    "\n",
    "# A map of plot colors to dice colors. This also sets the order in which they are plotted.\n",
    "COLORS = (\n",
    "    (\"Blue\", BLUE),\n",
    "    (\"Black\", PURPLE),\n",
    "    (\"Red\", RED),\n",
    "    (\"White\", GREEN),\n",
    ")\n",
    "\n",
    "# Set the Z ordering of elements on the plot. Items with a larger order will overlay lower order items.\n",
    "GREY_HIST_Z = 0\n",
    "WHITE_HIST_Z = 1\n",
    "POINTS_Z = 2\n",
    "ANNOTATION_Z = 3\n",
    "\n",
    "# Set the interval\n",
    "START_INTERVAL = 0.005\n",
    "END_INTERVAL = 1 - START_INTERVAL\n",
    "\n",
    "# A single event per bin, used for drawing the contours which use weights to set the value of each bin\n",
    "FAKE_COUNTS = [-4, -3, -2, -1, 0, 1, 2, 3, 4]"
   ]
  },
  {
   "cell_type": "code",
   "execution_count": 7,
   "metadata": {
    "scrolled": false
   },
   "outputs": [
    {
     "data": {
      "image/png": "[encoded data removed]",
      "text/plain": [
       "<matplotlib.figure.Figure at 0x7fe71ecb3ac8>"
      ]
     },
     "metadata": {},
     "output_type": "display_data"
    }
   ],
   "source": [
    "# Set the canvas size\n",
    "fig = plt.figure(figsize=(WIDTH, HEIGHT))\n",
    "\n",
    "plot_number = 0\n",
    "first_ax = None\n",
    "for name, hist_color in COLORS:\n",
    "    plot_number += 1\n",
    "    ax = plt.subplot(2, 2, plot_number)\n",
    "\n",
    "    # Save the first ax and use it to sharex and sharey\n",
    "    if first_ax is None:\n",
    "        first_ax = ax\n",
    "    ax = plt.subplot(2, 2, plot_number, sharex=first_ax, sharey=first_ax)\n",
    "\n",
    "    # Make the top plots have invisible X ticks and labels\n",
    "    if plot_number <= 2:\n",
    "        plt.setp(ax.get_xticklabels(), visible=False)\n",
    "    else:\n",
    "        ax.set_xlabel(\"4dF Result\", size=16)\n",
    "\n",
    "    # Make the right plots have invisible Y ticks and labels\n",
    "    if plot_number in (2, 4):\n",
    "        plt.setp(ax.get_yticklabels(), visible=False)\n",
    "    else:\n",
    "        ax.set_ylabel(\"Count\", size=16)\n",
    "\n",
    "    # Plot the observed points\n",
    "    sub_df = df[df[\"Color\" ] == name]\n",
    "    sub_array = np.array(sub_df[\"Result\"])\n",
    "    counts = np.histogram(sub_array, bins=BINS)[0]\n",
    "    plt.scatter(y=counts, x=[-4, -3, -2, -1, 0, 1, 2, 3, 4], color=hist_color, s=100, zorder=POINTS_Z)\n",
    "\n",
    "    # We plot \"confidence intervals\" calculated by finding the point at which\n",
    "    # the cumulative probability of rolling a configuration of dice crosses a\n",
    "    # critical threshold. The white histogram is used to cover up the bottom of\n",
    "    # the grey histogram, giving an appearance of ranges.\n",
    "    lowers, uppers = zip(*get_interval(len(sub_array), start=START_INTERVAL, end=END_INTERVAL))\n",
    "    plt.hist(\n",
    "        FAKE_COUNTS,\n",
    "        bins=BINS,\n",
    "        color=\"white\",\n",
    "        weights=lowers,\n",
    "        linewidth=2.5,\n",
    "        zorder=WHITE_HIST_Z,\n",
    "    )\n",
    "    plt.hist(\n",
    "        FAKE_COUNTS,\n",
    "        bins=BINS,\n",
    "        color=\"lightgrey\",\n",
    "        weights=uppers,\n",
    "        linewidth=2.5,\n",
    "        zorder=GREY_HIST_Z,\n",
    "    )\n",
    "\n",
    "    # Annotate the first plot\n",
    "    if plot_number == 1:\n",
    "        count_arrow = {\n",
    "            \"arrowstyle\": \"simple\",\n",
    "            \"connectionstyle\": \"arc3\",\n",
    "            \"color\": hist_color,\n",
    "            \"shrinkB\": 10,\n",
    "        }\n",
    "        ax.annotate(\n",
    "            \"Observed Count\",\n",
    "            (-3, 40),\n",
    "            xytext=(40, -5),\n",
    "            textcoords='offset points',\n",
    "            arrowprops=count_arrow,\n",
    "            size=16,\n",
    "            zorder=ANNOTATION_Z,\n",
    "        )\n",
    "\n",
    "        interval_arrow = {\n",
    "            \"arrowstyle\": \"-[\",\n",
    "            \"connectionstyle\": \"arc3\",\n",
    "            \"color\": hist_color,\n",
    "            \"shrinkB\": 10,\n",
    "            \"linewidth\": 2.5,\n",
    "        }\n",
    "        ax.annotate(\n",
    "            \"$99\\%$ Interval\",\n",
    "            (-2.5, (17+35)/2),\n",
    "            xytext=(40, -5),\n",
    "            textcoords='offset points',\n",
    "            arrowprops=interval_arrow,\n",
    "            size=16,\n",
    "            zorder=ANNOTATION_Z,\n",
    "        )\n",
    "\n",
    "    # Add a label to the plot about the dice\n",
    "    Y_POS = 144\n",
    "    plt.text(-4.7, Y_POS, \"{color} Dice\".format(color=name), size=18)\n",
    "    plt.text(2.6, Y_POS, \"$n={n}$\".format(n=len(sub_array)), size=18)\n",
    "\n",
    "# Set main title\n",
    "plt.suptitle('Fate Campaign Dice Rolls', y=1.02, fontsize=22)\n",
    "\n",
    "# Make the plots move together\n",
    "plt.tight_layout()\n",
    "\n",
    "# Save to disk\n",
    "for ext in (\"png\", \"svg\"):\n",
    "    fig.savefig(\"/tmp/fate_dice_rolls.{ext}\".format(ext=ext), bbox_inches=\"tight\")"
   ]
  },
  {
   "cell_type": "markdown",
   "metadata": {},
   "source": [
    "# $\\chi^2$ Test\n",
    "\n",
    "Finally, we check the results with a $\\chi^2$ test."
   ]
  },
  {
   "cell_type": "code",
   "execution_count": 8,
   "metadata": {
    "collapsed": true
   },
   "outputs": [],
   "source": [
    "def expected_array(arr):\n",
    "    \"\"\" Compute the expected values for each bin given a series of 4dF rolls.\n",
    "\n",
    "    Args:\n",
    "        arr (list): A list of the rolls recorded, where arr[0] is the number of\n",
    "            -4s seen, and arr[8] is the number of +4s seen.\n",
    "\n",
    "    Returns:\n",
    "        list: A list of expected number of rolls seen by value.\n",
    "\n",
    "    \"\"\"\n",
    "    n = sum(arr)\n",
    "\n",
    "    result = []\n",
    "    for value in range(-4, 5):\n",
    "        exp = fate_probability(value) * n\n",
    "        result.append(exp)\n",
    "\n",
    "    return result"
   ]
  },
  {
   "cell_type": "code",
   "execution_count": 9,
   "metadata": {},
   "outputs": [
    {
     "name": "stdout",
     "output_type": "stream",
     "text": [
      "Blue\n",
      "The statistic is 26.316016333938293 and the p-value is 0.0009271670473685792\n",
      "\n",
      "Black\n",
      "The statistic is 9.327186357131502 and the p-value is 0.31545111294692785\n",
      "\n",
      "Red\n",
      "The statistic is 10.772179451287796 and the p-value is 0.21494494890401578\n",
      "\n",
      "White\n",
      "The statistic is 19.079964975388116 and the p-value is 0.014437794633536498\n",
      "\n"
     ]
    }
   ],
   "source": [
    "# Calculate the Chi2 for each set of dice, compared to the expected value for fair dice\n",
    "for name in (\"Blue\", \"Black\", \"Red\", \"White\"):\n",
    "    print(name)\n",
    "    \n",
    "    sub_df = df[df[\"Color\" ] == name]\n",
    "    sub_array = np.array(sub_df[\"Result\"])\n",
    "    counts = np.histogram(sub_array, bins=BINS)[0]\n",
    "    \n",
    "    exp_counts = expected_array(counts)\n",
    "    chi, p = stats.chisquare(counts, exp_counts)\n",
    "    print(\"The statistic is {} and the p-value is {}\".format(chi, p), end=\"\\n\\n\")"
   ]
  }
 ],
 "metadata": {
  "kernelspec": {
   "display_name": "Python 3",
   "language": "python",
   "name": "python3"
  },
  "language_info": {
   "codemirror_mode": {
    "name": "ipython",
    "version": 3
   },
   "file_extension": ".py",
   "mimetype": "text/x-python",
   "name": "python",
   "nbconvert_exporter": "python",
   "pygments_lexer": "ipython3",
   "version": "3.6.1"
  }
 },
 "nbformat": 4,
 "nbformat_minor": 2
}

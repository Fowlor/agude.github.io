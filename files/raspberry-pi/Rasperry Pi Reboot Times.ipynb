{
 "cells": [
  {
   "cell_type": "code",
   "execution_count": 1,
   "metadata": {},
   "outputs": [],
   "source": [
    "import numpy as np\n",
    "import matplotlib.pyplot as plt\n",
    "import matplotlib.animation as animation\n",
    "import pandas as pd\n",
    "import seaborn as sns\n",
    "from datetime import datetime, date, timedelta\n",
    "\n",
    "# Set plotting style\n",
    "plt.style.use('seaborn-white')\n",
    "\n",
    "# Plot constants\n",
    "WIDTH = 10\n",
    "HEIGHT = 7\n",
    "BIN_EDGES = np.arange(120)-0.5\n",
    "plt.rcParams['savefig.bbox'] = 'tight'\n",
    "\n",
    "%matplotlib inline"
   ]
  },
  {
   "cell_type": "code",
   "execution_count": 2,
   "metadata": {},
   "outputs": [],
   "source": [
    "# CSV files of tweets\n",
    "PION_CSV = \"./pion_tweets.csv\"\n",
    "KAON_CSV = \"./kaon_tweets.csv\""
   ]
  },
  {
   "cell_type": "code",
   "execution_count": 3,
   "metadata": {},
   "outputs": [],
   "source": [
    "# Load the csv files\n",
    "pion_df = pd.read_csv(PION_CSV, parse_dates=[3], index_col=0)\n",
    "kaon_df = pd.read_csv(KAON_CSV, parse_dates=[3], index_col=0)\n",
    "\n",
    "pion_df[\"name\"] = \"pion\"\n",
    "kaon_df[\"name\"] = \"kaon\"\n",
    "\n",
    "df = pd.concat([pion_df, kaon_df]) "
   ]
  },
  {
   "cell_type": "code",
   "execution_count": 4,
   "metadata": {},
   "outputs": [],
   "source": [
    "# Prune out useless columns\n",
    "USELESS = [\n",
    "    'in_reply_to_status_id',\n",
    "    'in_reply_to_user_id',\n",
    "    'source',\n",
    "    'retweeted_status_id',\n",
    "    'retweeted_status_user_id',\n",
    "    'retweeted_status_timestamp',\n",
    "    'expanded_urls',\n",
    "]\n",
    "\n",
    "try:  # Prevent error on rerun without reloading the CSV\n",
    "    df.drop(USELESS, axis=1, inplace=True)\n",
    "except ValueError:\n",
    "    pass"
   ]
  },
  {
   "cell_type": "code",
   "execution_count": 5,
   "metadata": {},
   "outputs": [],
   "source": [
    "# A function to pull out the boot time!\n",
    "def get_time(tweet):\n",
    "    # Is it a reboot tweet?\n",
    "    if \"Good morning!\" not in tweet:\n",
    "        return None\n",
    "    # Otherwise we have a time\n",
    "    time = tweet.split()[0]\n",
    "    return datetime.strptime(time, \"%H:%M:%S:\")"
   ]
  },
  {
   "cell_type": "code",
   "execution_count": 6,
   "metadata": {},
   "outputs": [],
   "source": [
    "# Extract the time in the text and convert it to seconds after 0100\n",
    "df['time'] = df['text'].map(get_time)\n",
    "df['time_delta'] = df['time'].map(lambda x: (x - datetime(1900, 1, 1, 1, 0)).total_seconds())\n",
    "df['date'] = df['timestamp'].map(lambda x: x.date())"
   ]
  },
  {
   "cell_type": "code",
   "execution_count": 7,
   "metadata": {},
   "outputs": [],
   "source": [
    "# Remove rows without a time delta\n",
    "df = df.dropna()\n",
    "\n",
    "# Remove times the Pis rebooted that was not the scheduled 0100 reboot\n",
    "df = df[df.time_delta < 600]"
   ]
  },
  {
   "cell_type": "code",
   "execution_count": 8,
   "metadata": {
    "scrolled": true
   },
   "outputs": [],
   "source": [
    "pion_data = df[df[\"name\"] == \"pion\"][\"time_delta\"]\n",
    "kaon_data = df[df[\"name\"] == \"kaon\"][\"time_delta\"]"
   ]
  },
  {
   "cell_type": "code",
   "execution_count": 9,
   "metadata": {},
   "outputs": [
    {
     "name": "stdout",
     "output_type": "stream",
     "text": [
      "Pion: 32.0 Kaon: 29.000000000000004\n"
     ]
    }
   ],
   "source": [
    "# Get summary stats\n",
    "pion_median = pion_data.median()\n",
    "kaon_median = kaon_data.median()\n",
    "print(\"Pion:\", pion_median, \"Kaon:\", kaon_median)"
   ]
  },
  {
   "cell_type": "code",
   "execution_count": 10,
   "metadata": {
    "scrolled": false
   },
   "outputs": [
    {
     "data": {
      "image/png": "[encoded data removed]",
      "text/plain": [
       "<matplotlib.figure.Figure at 0x7f1d32045b00>"
      ]
     },
     "metadata": {},
     "output_type": "display_data"
    }
   ],
   "source": [
    "fig, ax = plt.subplots(figsize=(WIDTH, HEIGHT))\n",
    "\n",
    "# Histogram settings\n",
    "hist_kws={\n",
    "    \"histtype\": \"stepfilled\",\n",
    "    \"linewidth\": 2,\n",
    "    \"alpha\": 0.7,\n",
    "}\n",
    "\n",
    "# Setup data\n",
    "DATA = (\n",
    "    (pion_data, \"Pi 2\"),\n",
    "    (kaon_data, \"Pi 3\"),\n",
    ")\n",
    "\n",
    "# Make the plot\n",
    "for x, label in DATA:\n",
    "    #sns.distplot(x, kde=False, hist_kws=hist_kws, bins=BIN_EDGES, label=label, ax=ax)\n",
    "    plt.hist(x, bins=BIN_EDGES, label=label, histtype=\"stepfilled\", linewidth=2, alpha=0.7)\n",
    "        \n",
    "# Add a legend to the main plot\n",
    "ax.legend(loc=\"upper right\", fontsize=16)\n",
    "\n",
    "# Titles\n",
    "ax.set_title(\"Raspberry Pi Reboot Times: Pi 2 vs Pi 3\", fontsize=22)\n",
    "ax.set_xlabel(\"Reboot Time [Seconds]\", fontsize=20)\n",
    "ax.set_ylabel(\"Count\", fontsize=20)\n",
    "\n",
    "ax.set_xlim(10, 50)\n",
    "ax.tick_params(axis='both', which='major', labelsize=12)\n",
    "\n",
    "# Use for the animated plot\n",
    "XLIM = ax.get_xlim()\n",
    "YLIM = ax.get_ylim()\n",
    "\n",
    "# Save to disk\n",
    "for ext in (\"png\", \"svg\"):\n",
    "    fig.savefig(\"/tmp/raspberry_pi_reboot_times_2_vs_3.{ext}\".format(ext=ext), bbox_inches=\"tight\", dpi=300)"
   ]
  },
  {
   "cell_type": "code",
   "execution_count": 11,
   "metadata": {},
   "outputs": [],
   "source": [
    "def sequential_dfs(df, start=date(2017, 1, 17), stop=date(2017, 11, 11)):\n",
    "    delta = stop - start\n",
    "    for i in range(delta.days + 1):\n",
    "        current_stop = start + timedelta(days=i)\n",
    "        yield (df[(df['date'] >= start) & (df['date'] <= current_stop)], current_stop)"
   ]
  },
  {
   "cell_type": "code",
   "execution_count": 12,
   "metadata": {
    "scrolled": false
   },
   "outputs": [
    {
     "name": "stderr",
     "output_type": "stream",
     "text": [
      "Traceback (most recent call last):\n",
      "  File \"/home/agude/bin/anaconda/lib/python3.6/site-packages/matplotlib/cbook/__init__.py\", line 389, in process\n",
      "    proxy(*args, **kwargs)\n",
      "  File \"/home/agude/bin/anaconda/lib/python3.6/site-packages/matplotlib/cbook/__init__.py\", line 227, in __call__\n",
      "    return mtd(*args, **kwargs)\n",
      "  File \"/home/agude/bin/anaconda/lib/python3.6/site-packages/matplotlib/animation.py\", line 1081, in _start\n",
      "    self._init_draw()\n",
      "  File \"/home/agude/bin/anaconda/lib/python3.6/site-packages/matplotlib/animation.py\", line 1792, in _init_draw\n",
      "    self._draw_frame(next(self.new_frame_seq()))\n",
      "StopIteration\n"
     ]
    },
    {
     "data": {
      "image/png": "[encoded data removed]",
      "text/plain": [
       "<matplotlib.figure.Figure at 0x7f1d2ab2e3c8>"
      ]
     },
     "metadata": {},
     "output_type": "display_data"
    }
   ],
   "source": [
    "fig, ax = plt.subplots(figsize=(WIDTH, HEIGHT))\n",
    "\n",
    "RUN_COUNT = len(list(enumerate(sequential_dfs(df))))\n",
    "\n",
    "VIDEO_META = {\n",
    "    \"title\": \"Raspberry Pi Reboot Times: Pi 2 vs Pi 3\",\n",
    "    \"artist\": \"Alexander Gude\",\n",
    "    \"genre\": \"Scientific\",\n",
    "    \"subject\": \"Raspberry Pi reboot time comparison\",\n",
    "    \"copyright\": \"CC-BY-SA 4.0\",\n",
    "}\n",
    "\n",
    "ax.set_title(\"Raspberry Pi Reboot Times: Pi 2 vs Pi 3\", fontsize=22)\n",
    "ax.set_xlabel(\"Reboot Time [Seconds]\", fontsize=20)\n",
    "ax.set_ylabel(\"Count\", fontsize=20)\n",
    "\n",
    "fig.tight_layout()\n",
    "\n",
    "def update(frame):\n",
    "    plt.gca().cla()\n",
    "    \n",
    "    i, (sliced_df, current_date) = frame\n",
    "    \n",
    "    # Setup data\n",
    "    DATA = (\n",
    "        (sliced_df[sliced_df[\"name\"] == \"pion\"][\"time_delta\"], \"Pi 2\"),\n",
    "        (sliced_df[sliced_df[\"name\"] == \"kaon\"][\"time_delta\"], \"Pi 3\"),\n",
    "    )\n",
    "    \n",
    "    ax.set_title(\"Raspberry Pi Reboot Times: Pi 2 vs Pi 3\", fontsize=22)\n",
    "    ax.set_xlabel(\"Reboot Time [Seconds]\", fontsize=20)\n",
    "    ax.set_ylabel(\"Count\", fontsize=20)\n",
    "\n",
    "    ax.set_xlim(XLIM)\n",
    "    ax.set_ylim(YLIM)\n",
    "    ax.tick_params(axis='both', which='major', labelsize=12)\n",
    "    \n",
    "    # Make the plot\n",
    "    for x, label in DATA:\n",
    "        plt.hist(x, bins=BIN_EDGES, label=label, histtype=\"stepfilled\", linewidth=2, alpha=0.7)\n",
    "    # Add a time-stamp\n",
    "    ax.text(0.02, 0.92, current_date.isoformat(), fontsize=20, transform=ax.transAxes)\n",
    "    \n",
    "    ax.legend(loc=\"upper right\", fontsize=16)\n",
    "\n",
    "anim = animation.FuncAnimation(fig, update, enumerate(sequential_dfs(df)), save_count=RUN_COUNT)\n",
    "    \n",
    "anim.save('/tmp/raspberry_pi_reboot_times_2_vs_3_animation.mp4', fps=24, extra_args=['-vcodec', 'libx264'], dpi=300, metadata=VIDEO_META)\n",
    "\n",
    "plt.show()"
   ]
  }
 ],
 "metadata": {
  "kernelspec": {
   "display_name": "Python 3",
   "language": "python",
   "name": "python3"
  },
  "language_info": {
   "codemirror_mode": {
    "name": "ipython",
    "version": 3
   },
   "file_extension": ".py",
   "mimetype": "text/x-python",
   "name": "python",
   "nbconvert_exporter": "python",
   "pygments_lexer": "ipython3",
   "version": "3.6.3"
  }
 },
 "nbformat": 4,
 "nbformat_minor": 2
}
